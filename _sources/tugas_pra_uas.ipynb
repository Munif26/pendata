{
  "nbformat": 4,
  "nbformat_minor": 0,
  "metadata": {
    "colab": {
      "provenance": [],
      "toc_visible": true
    },
    "kernelspec": {
      "name": "python3",
      "display_name": "Python 3"
    },
    "language_info": {
      "name": "python"
    }
  },
  "cells": [
    {
      "cell_type": "markdown",
      "source": [
        "# **PRA UAS Penambangan Data**"
      ],
      "metadata": {
        "id": "ClMhgeFztjot"
      }
    },
    {
      "cell_type": "markdown",
      "source": [
        "# **1. Dataset**\n",
        "\n",
        "📌 Sumber Dataset\n",
        "Dataset diambil dari UCI Machine Learning Repository:\n",
        "Judul: Product Classification and Clustering\n",
        "\n",
        "🔗 https://archive.ics.uci.edu/dataset/837/product%2Bclassification%2Band%2Bclustering?\n",
        "\n",
        "Dataset ini berisi informasi mengenai lebih dari 35.000 produk yang diklasifikasikan berdasarkan judul, kategori, dan merchant.\n",
        "\n",
        "- Apa itu?\n",
        "Dataset adalah sekumpulan data yang digunakan sebagai bahan utama untuk dianalisis dalam proyek penambangan data.\n",
        "\n",
        "- Penjelasan:\n",
        "Pada proyek ini, dataset yang digunakan berjudul Product Classification and Clustering, diambil dari UCI Machine Learning Repository. Dataset ini berisi informasi tentang lebih dari 35.000 produk yang dikumpulkan dari situs PriceRunner, termasuk:\n",
        "\n",
        " Judul produk (Product Title)\n",
        "\n",
        " ID penjual (Merchant ID)\n",
        "\n",
        " Kategori produk (Category Label)\n",
        "\n",
        " Cluster alami berdasarkan kemiripan judul (Cluster Label)\n",
        "\n",
        "- Tujuan:\n",
        "Dataset ini digunakan untuk membangun sistem yang mampu:\n",
        "\n",
        " Mengelompokkan produk berdasarkan kemiripan judul (clustering)\n",
        "\n",
        " Memprediksi kategori produk dari judul (klasifikasi)"
      ],
      "metadata": {
        "id": "jbeA_7Djttbe"
      }
    },
    {
      "cell_type": "markdown",
      "source": [
        "# **2. Data Understanding**\n",
        "\n",
        "Apa itu? Data Understanding adalah tahap awal dalam proses data mining yang bertujuan untuk memahami struktur, isi, dan kualitas data."
      ],
      "metadata": {
        "id": "Fs9ADwrFuhId"
      }
    },
    {
      "cell_type": "markdown",
      "source": [
        "## **a. Penjelasan Fitur**\n",
        "\n",
        "product_title adalah fitur utama karena berbentuk teks dan akan digunakan sebagai dasar klasifikasi & clustering.\n",
        "\n",
        "category_label adalah target klasifikasi.\n",
        "\n",
        "cluster_label dapat digunakan sebagai pembanding pada clustering."
      ],
      "metadata": {
        "id": "QETNedlou9WU"
      }
    },
    {
      "cell_type": "code",
      "source": [
        "fitur_deskripsi = {\n",
        "    \"product_id\": \"ID unik dari produk\",\n",
        "    \"product_title\": \"Judul teks dari produk\",\n",
        "    \"merchant_id\": \"ID unik dari penjual\",\n",
        "    \"cluster_id\": \"Cluster alami dari produk (berdasarkan kemiripan judul)\",\n",
        "    \"cluster_label\": \"Label nama cluster alami\",\n",
        "    \"category_id\": \"ID numerik dari kategori produk\",\n",
        "    \"category_label\": \"Nama kategori produk\"\n",
        "}\n"
      ],
      "metadata": {
        "id": "Jl9805n-utNB"
      },
      "execution_count": null,
      "outputs": []
    },
    {
      "cell_type": "markdown",
      "source": [
        "## **b. Eksplorasi**\n",
        "\n",
        "Tujuan eksplorasi ini:\n",
        "\n",
        "Memastikan data bersih (tanpa NaN)\n",
        "\n",
        "Mengetahui persebaran kategori\n",
        "\n",
        "Menambahkan informasi baru (title_length) sebagai fitur numerik tambahan\n"
      ],
      "metadata": {
        "id": "X9uHm-f_uznm"
      }
    },
    {
      "cell_type": "code",
      "execution_count": null,
      "metadata": {
        "colab": {
          "base_uri": "https://localhost:8080/",
          "height": 576
        },
        "id": "OZQfu_MnsRWV",
        "outputId": "1a72d139-7b32-4f55-b7ce-3d90fb9ea81a"
      },
      "outputs": [
        {
          "output_type": "display_data",
          "data": {
            "text/plain": [
              "<IPython.core.display.HTML object>"
            ],
            "text/html": [
              "\n",
              "     <input type=\"file\" id=\"files-22ec24a3-5514-4fe7-aa5a-34e6fca85c3c\" name=\"files[]\" multiple disabled\n",
              "        style=\"border:none\" />\n",
              "     <output id=\"result-22ec24a3-5514-4fe7-aa5a-34e6fca85c3c\">\n",
              "      Upload widget is only available when the cell has been executed in the\n",
              "      current browser session. Please rerun this cell to enable.\n",
              "      </output>\n",
              "      <script>// Copyright 2017 Google LLC\n",
              "//\n",
              "// Licensed under the Apache License, Version 2.0 (the \"License\");\n",
              "// you may not use this file except in compliance with the License.\n",
              "// You may obtain a copy of the License at\n",
              "//\n",
              "//      http://www.apache.org/licenses/LICENSE-2.0\n",
              "//\n",
              "// Unless required by applicable law or agreed to in writing, software\n",
              "// distributed under the License is distributed on an \"AS IS\" BASIS,\n",
              "// WITHOUT WARRANTIES OR CONDITIONS OF ANY KIND, either express or implied.\n",
              "// See the License for the specific language governing permissions and\n",
              "// limitations under the License.\n",
              "\n",
              "/**\n",
              " * @fileoverview Helpers for google.colab Python module.\n",
              " */\n",
              "(function(scope) {\n",
              "function span(text, styleAttributes = {}) {\n",
              "  const element = document.createElement('span');\n",
              "  element.textContent = text;\n",
              "  for (const key of Object.keys(styleAttributes)) {\n",
              "    element.style[key] = styleAttributes[key];\n",
              "  }\n",
              "  return element;\n",
              "}\n",
              "\n",
              "// Max number of bytes which will be uploaded at a time.\n",
              "const MAX_PAYLOAD_SIZE = 100 * 1024;\n",
              "\n",
              "function _uploadFiles(inputId, outputId) {\n",
              "  const steps = uploadFilesStep(inputId, outputId);\n",
              "  const outputElement = document.getElementById(outputId);\n",
              "  // Cache steps on the outputElement to make it available for the next call\n",
              "  // to uploadFilesContinue from Python.\n",
              "  outputElement.steps = steps;\n",
              "\n",
              "  return _uploadFilesContinue(outputId);\n",
              "}\n",
              "\n",
              "// This is roughly an async generator (not supported in the browser yet),\n",
              "// where there are multiple asynchronous steps and the Python side is going\n",
              "// to poll for completion of each step.\n",
              "// This uses a Promise to block the python side on completion of each step,\n",
              "// then passes the result of the previous step as the input to the next step.\n",
              "function _uploadFilesContinue(outputId) {\n",
              "  const outputElement = document.getElementById(outputId);\n",
              "  const steps = outputElement.steps;\n",
              "\n",
              "  const next = steps.next(outputElement.lastPromiseValue);\n",
              "  return Promise.resolve(next.value.promise).then((value) => {\n",
              "    // Cache the last promise value to make it available to the next\n",
              "    // step of the generator.\n",
              "    outputElement.lastPromiseValue = value;\n",
              "    return next.value.response;\n",
              "  });\n",
              "}\n",
              "\n",
              "/**\n",
              " * Generator function which is called between each async step of the upload\n",
              " * process.\n",
              " * @param {string} inputId Element ID of the input file picker element.\n",
              " * @param {string} outputId Element ID of the output display.\n",
              " * @return {!Iterable<!Object>} Iterable of next steps.\n",
              " */\n",
              "function* uploadFilesStep(inputId, outputId) {\n",
              "  const inputElement = document.getElementById(inputId);\n",
              "  inputElement.disabled = false;\n",
              "\n",
              "  const outputElement = document.getElementById(outputId);\n",
              "  outputElement.innerHTML = '';\n",
              "\n",
              "  const pickedPromise = new Promise((resolve) => {\n",
              "    inputElement.addEventListener('change', (e) => {\n",
              "      resolve(e.target.files);\n",
              "    });\n",
              "  });\n",
              "\n",
              "  const cancel = document.createElement('button');\n",
              "  inputElement.parentElement.appendChild(cancel);\n",
              "  cancel.textContent = 'Cancel upload';\n",
              "  const cancelPromise = new Promise((resolve) => {\n",
              "    cancel.onclick = () => {\n",
              "      resolve(null);\n",
              "    };\n",
              "  });\n",
              "\n",
              "  // Wait for the user to pick the files.\n",
              "  const files = yield {\n",
              "    promise: Promise.race([pickedPromise, cancelPromise]),\n",
              "    response: {\n",
              "      action: 'starting',\n",
              "    }\n",
              "  };\n",
              "\n",
              "  cancel.remove();\n",
              "\n",
              "  // Disable the input element since further picks are not allowed.\n",
              "  inputElement.disabled = true;\n",
              "\n",
              "  if (!files) {\n",
              "    return {\n",
              "      response: {\n",
              "        action: 'complete',\n",
              "      }\n",
              "    };\n",
              "  }\n",
              "\n",
              "  for (const file of files) {\n",
              "    const li = document.createElement('li');\n",
              "    li.append(span(file.name, {fontWeight: 'bold'}));\n",
              "    li.append(span(\n",
              "        `(${file.type || 'n/a'}) - ${file.size} bytes, ` +\n",
              "        `last modified: ${\n",
              "            file.lastModifiedDate ? file.lastModifiedDate.toLocaleDateString() :\n",
              "                                    'n/a'} - `));\n",
              "    const percent = span('0% done');\n",
              "    li.appendChild(percent);\n",
              "\n",
              "    outputElement.appendChild(li);\n",
              "\n",
              "    const fileDataPromise = new Promise((resolve) => {\n",
              "      const reader = new FileReader();\n",
              "      reader.onload = (e) => {\n",
              "        resolve(e.target.result);\n",
              "      };\n",
              "      reader.readAsArrayBuffer(file);\n",
              "    });\n",
              "    // Wait for the data to be ready.\n",
              "    let fileData = yield {\n",
              "      promise: fileDataPromise,\n",
              "      response: {\n",
              "        action: 'continue',\n",
              "      }\n",
              "    };\n",
              "\n",
              "    // Use a chunked sending to avoid message size limits. See b/62115660.\n",
              "    let position = 0;\n",
              "    do {\n",
              "      const length = Math.min(fileData.byteLength - position, MAX_PAYLOAD_SIZE);\n",
              "      const chunk = new Uint8Array(fileData, position, length);\n",
              "      position += length;\n",
              "\n",
              "      const base64 = btoa(String.fromCharCode.apply(null, chunk));\n",
              "      yield {\n",
              "        response: {\n",
              "          action: 'append',\n",
              "          file: file.name,\n",
              "          data: base64,\n",
              "        },\n",
              "      };\n",
              "\n",
              "      let percentDone = fileData.byteLength === 0 ?\n",
              "          100 :\n",
              "          Math.round((position / fileData.byteLength) * 100);\n",
              "      percent.textContent = `${percentDone}% done`;\n",
              "\n",
              "    } while (position < fileData.byteLength);\n",
              "  }\n",
              "\n",
              "  // All done.\n",
              "  yield {\n",
              "    response: {\n",
              "      action: 'complete',\n",
              "    }\n",
              "  };\n",
              "}\n",
              "\n",
              "scope.google = scope.google || {};\n",
              "scope.google.colab = scope.google.colab || {};\n",
              "scope.google.colab._files = {\n",
              "  _uploadFiles,\n",
              "  _uploadFilesContinue,\n",
              "};\n",
              "})(self);\n",
              "</script> "
            ]
          },
          "metadata": {}
        },
        {
          "output_type": "stream",
          "name": "stdout",
          "text": [
            "Saving pricerunner_aggregate.csv to pricerunner_aggregate (1).csv\n",
            "Product ID        0\n",
            "Product Title     0\n",
            "Merchant ID       0\n",
            "Cluster ID        0\n",
            "Cluster Label     0\n",
            "Category ID       0\n",
            "Category Label    0\n",
            "dtype: int64\n",
            "Category Label\n",
            "Fridge Freezers     5501\n",
            "Mobile Phones       4081\n",
            "Washing Machines    4044\n",
            "CPUs                3862\n",
            "Fridges             3584\n",
            "TVs                 3564\n",
            "Dishwashers         3424\n",
            "Digital Cameras     2697\n",
            "Microwaves          2342\n",
            "Freezers            2212\n",
            "Name: count, dtype: int64\n",
            "count    35311.000000\n",
            "mean         8.665911\n",
            "std          4.166677\n",
            "min          1.000000\n",
            "25%          6.000000\n",
            "50%          8.000000\n",
            "75%         11.000000\n",
            "max         37.000000\n",
            "Name: title_length, dtype: float64\n"
          ]
        }
      ],
      "source": [
        "from google.colab import files\n",
        "\n",
        "# Unggah file dari lokal\n",
        "uploaded = files.upload()\n",
        "\n",
        "import pandas as pd\n",
        "\n",
        "df = pd.read_csv('pricerunner_aggregate.csv')\n",
        "\n",
        "# Hapus spasi di awal/akhir nama kolom\n",
        "df.columns = df.columns.str.strip()\n",
        "\n",
        "# Cek missing values\n",
        "print(df.isnull().sum())\n",
        "\n",
        "# Distribusi kategori\n",
        "print(df['Category Label'].value_counts())\n",
        "\n",
        "# Tambah kolom panjang judul\n",
        "df['title_length'] = df['Product Title'].str.split().apply(len)\n",
        "print(df['title_length'].describe())"
      ]
    },
    {
      "cell_type": "markdown",
      "source": [
        "## **c. Visualisasi**\n",
        "\n",
        "Visualisasi digunakan untuk memahami struktur distribusi data secara visual:\n",
        "\n",
        "Apakah beberapa kategori mendominasi?\n",
        "\n",
        "Apakah judul produk umumnya panjang atau pendek?"
      ],
      "metadata": {
        "id": "xqPIvzMEyRv8"
      }
    },
    {
      "cell_type": "code",
      "source": [
        "import seaborn as sns\n",
        "import matplotlib.pyplot as plt\n",
        "\n",
        "# Pastikan kolom tidak mengandung spasi di awal/akhir\n",
        "df.columns = df.columns.str.strip()\n",
        "\n",
        "# Ganti 'category_label' menjadi 'Category Label' dan set kolomnya agar cocok\n",
        "plt.figure(figsize=(10, 5))\n",
        "sns.countplot(data=df, y='Category Label', order=df['Category Label'].value_counts().index)\n",
        "plt.title('Jumlah Produk per Kategori')\n",
        "plt.xlabel('Jumlah Produk')\n",
        "plt.ylabel('Kategori')\n",
        "plt.tight_layout()\n",
        "plt.show()\n",
        "\n",
        "# Panjang judul produk (pastikan sebelumnya sudah dibuat kolom title_length)\n",
        "plt.figure(figsize=(8, 5))\n",
        "sns.histplot(df['title_length'], bins=30, kde=True)\n",
        "plt.title('Distribusi Panjang Judul Produk (jumlah kata)')\n",
        "plt.xlabel('Jumlah Kata')\n",
        "plt.ylabel('Frekuensi')\n",
        "plt.tight_layout()\n",
        "plt.show()"
      ],
      "metadata": {
        "colab": {
          "base_uri": "https://localhost:8080/",
          "height": 973
        },
        "id": "25GLcetVu-8-",
        "outputId": "47b6894e-accc-4e00-8eda-29c648fedfaf"
      },
      "execution_count": null,
      "outputs": [
        {
          "output_type": "display_data",
          "data": {
            "text/plain": [
              "<Figure size 1000x500 with 1 Axes>"
            ],
            "image/png": "[encoded data removed]"
          },
          "metadata": {}
        },
        {
          "output_type": "display_data",
          "data": {
            "text/plain": [
              "<Figure size 800x500 with 1 Axes>"
            ],
            "image/png": "[encoded data removed]"
          },
          "metadata": {}
        }
      ]
    },
    {
      "cell_type": "markdown",
      "source": [
        "# **3. Preprocessing**\n",
        "\n",
        "Apa itu? Preprocessing adalah tahap pengolahan data mentah agar dapat digunakan oleh algoritma machine learning.\n",
        "\n",
        "- Yang dilakukan:\n",
        "\n",
        "  TF-IDF Vectorization: Mengubah teks (judul produk) menjadi angka agar bisa diproses oleh komputer\n",
        "\n",
        "  Stopwords Removal: Menghapus kata-kata umum yang tidak bermakna (seperti \"the\", \"and\", \"of\")\n",
        "\n",
        "  Reduksi Dimensi (Truncated SVD): Mengurangi jumlah fitur agar komputasi lebih efisien dan bisa divisualisasikan\n",
        "\n",
        "  Tujuan:\n",
        "  Menyiapkan data dalam format numerik dan ringkas agar algoritma dapat bekerja dengan lebih baik dan lebih cepat.\n",
        "\n"
      ],
      "metadata": {
        "id": "fn6RvF4Ky12B"
      }
    },
    {
      "cell_type": "markdown",
      "source": [
        "## **TF-IDF dan Reduksi Dimensi**\n",
        "\n",
        "TF-IDF mengubah teks ke bentuk numerik berbobot kata.\n",
        "\n",
        "Truncated SVD (Latent Semantic Analysis) menurunkan dimensi fitur agar lebih ringan & bisa divisualisasi (misal: scatter plot)."
      ],
      "metadata": {
        "id": "sv0fMYjFzCLf"
      }
    },
    {
      "cell_type": "code",
      "source": [
        "from sklearn.feature_extraction.text import TfidfVectorizer\n",
        "from sklearn.decomposition import TruncatedSVD\n",
        "\n",
        "# Pastikan kolom tidak ada spasi di awal/akhir\n",
        "df.columns = df.columns.str.strip()\n",
        "\n",
        "# Gunakan kolom yang benar untuk judul produk: 'Product Title'\n",
        "tfidf = TfidfVectorizer(stop_words='english', max_features=1000)\n",
        "X_tfidf = tfidf.fit_transform(df['Product Title'])  # Kolom dengan huruf besar dan spasi sesuai CSV\n",
        "\n",
        "# Reduksi dimensi ke 2 dimensi (untuk clustering dan visualisasi)\n",
        "svd = TruncatedSVD(n_components=2, random_state=42)\n",
        "X_svd = svd.fit_transform(X_tfidf)"
      ],
      "metadata": {
        "id": "_20WaFxuzGhK"
      },
      "execution_count": null,
      "outputs": []
    },
    {
      "cell_type": "markdown",
      "source": [
        "# **4. Clustering & Klasifikasi**\n",
        "\n",
        "Apa itu?\n",
        "Tahap utama dari proyek di mana dilakukan proses analisis menggunakan algoritma machine learning.\n",
        "\n",
        "a. Clustering (Unsupervised Learning)\n",
        "Tujuan: Mengelompokkan produk berdasarkan kemiripan judul, tanpa melihat label kategori\n",
        "\n",
        "Metode: K-Means\n",
        "\n",
        "Evaluasi: Silhouette Score → menunjukkan seberapa baik pemisahan antar cluster\n",
        "\n",
        "b. Klasifikasi (Supervised Learning)\n",
        "Tujuan: Memprediksi kategori produk berdasarkan teks judul\n",
        "\n",
        "Metode: Multinomial Naive Bayes\n",
        "\n",
        "Evaluasi: Classification Report (Precision, Recall, F1-score, Accuracy)\n",
        "\n",
        "Perbedaan utama:\n",
        "\n",
        "Clustering tidak membutuhkan label (unsupervised)\n",
        "\n",
        "Klasifikasi membutuhkan label target (supervised)"
      ],
      "metadata": {
        "id": "gAc5cr84zXyK"
      }
    },
    {
      "cell_type": "markdown",
      "source": [
        "## **Clustering (K-Means)**\n",
        "\n",
        "Mengelompokkan produk berdasarkan kesamaan judul\n",
        "\n",
        "Mengevaluasi hasil cluster dengan Silhouette Score\n",
        "\n",
        "Skor > 0.5 → bagus\n",
        "\n",
        "Skor 0.2–0.5 → cukup baik"
      ],
      "metadata": {
        "id": "NsFaa79oznL8"
      }
    },
    {
      "cell_type": "code",
      "source": [
        "from sklearn.cluster import KMeans\n",
        "from sklearn.metrics import silhouette_score\n",
        "\n",
        "kmeans = KMeans(n_clusters=10, random_state=42)\n",
        "cluster_labels = kmeans.fit_predict(X_svd)\n",
        "\n",
        "sil_score = silhouette_score(X_svd, cluster_labels)\n",
        "print(\"Silhouette Score:\", sil_score)"
      ],
      "metadata": {
        "colab": {
          "base_uri": "https://localhost:8080/"
        },
        "id": "yQTHc-yzzXW6",
        "outputId": "81bcaacb-c608-44ee-99b5-665534dcbb88"
      },
      "execution_count": null,
      "outputs": [
        {
          "output_type": "stream",
          "name": "stdout",
          "text": [
            "Silhouette Score: 0.5089452678654753\n"
          ]
        }
      ]
    },
    {
      "cell_type": "markdown",
      "source": [
        "## **Klasifikasi (Naive Bayes)**\n",
        "\n",
        "Hasil akan menunjukkan metrik evaluasi:\n",
        "\n",
        "Precision: Akurasi positif per kategori\n",
        "\n",
        "Recall: Kemampuan menangkap seluruh data positif\n",
        "\n",
        "F1-score: Harmonis antara precision dan recall\n",
        "\n",
        "Accuracy total"
      ],
      "metadata": {
        "id": "wjr6zkRjzxWG"
      }
    },
    {
      "cell_type": "code",
      "source": [
        "from sklearn.model_selection import train_test_split\n",
        "from sklearn.naive_bayes import MultinomialNB\n",
        "from sklearn.metrics import classification_report\n",
        "\n",
        "# Pastikan kolom tidak ada spasi di awal/akhir\n",
        "df.columns = df.columns.str.strip()\n",
        "\n",
        "# Split data untuk klasifikasi dengan target 'Category Label'\n",
        "X_train, X_test, y_train, y_test = train_test_split(X_tfidf, df['Category Label'], test_size=0.3, random_state=42)\n",
        "\n",
        "# Gunakan Multinomial Naive Bayes\n",
        "nb = MultinomialNB()\n",
        "nb.fit(X_train, y_train)\n",
        "y_pred = nb.predict(X_test)\n",
        "\n",
        "# Tampilkan hasil evaluasi\n",
        "print(classification_report(y_test, y_pred))"
      ],
      "metadata": {
        "colab": {
          "base_uri": "https://localhost:8080/"
        },
        "id": "_zEZ5wKtz11M",
        "outputId": "bc3d6778-cf67-437e-d221-c1bdd2064517"
      },
      "execution_count": null,
      "outputs": [
        {
          "output_type": "stream",
          "name": "stdout",
          "text": [
            "                  precision    recall  f1-score   support\n",
            "\n",
            "            CPUs       1.00      1.00      1.00      1139\n",
            " Digital Cameras       0.98      0.99      0.99       826\n",
            "     Dishwashers       0.85      0.95      0.90      1000\n",
            "        Freezers       0.96      0.55      0.70       652\n",
            " Fridge Freezers       0.77      0.89      0.82      1676\n",
            "         Fridges       0.82      0.78      0.80      1102\n",
            "      Microwaves       0.99      0.93      0.96       694\n",
            "   Mobile Phones       0.99      0.97      0.98      1223\n",
            "             TVs       0.96      0.97      0.97      1090\n",
            "Washing Machines       0.94      0.93      0.94      1192\n",
            "\n",
            "        accuracy                           0.91     10594\n",
            "       macro avg       0.93      0.90      0.90     10594\n",
            "    weighted avg       0.91      0.91      0.91     10594\n",
            "\n"
          ]
        }
      ]
    },
    {
      "cell_type": "markdown",
      "source": [
        "# **5. Evaluasi Model**\n",
        "Clustering: menggunakan Silhouette Score\n",
        "\n",
        "Klasifikasi: akurasi, precision, recall, F1 (sudah ditampilkan lewat classification_report)\n",
        "\n",
        "Apa itu?\n",
        "Evaluasi model adalah proses untuk mengukur seberapa baik model yang kita buat dalam menjalankan tugasnya.\n",
        "\n",
        "Metode Evaluasi:\n",
        "\n",
        "Clustering: menggunakan Silhouette Score\n",
        "Nilai mendekati 1 artinya cluster sangat baik\n",
        "\n",
        "Klasifikasi: menggunakan Classification Report\n",
        "Meliputi akurasi, precision, recall, dan F1-score\n",
        "\n",
        "Tujuan:\n",
        "Menentukan apakah model yang dibangun sudah layak untuk digunakan atau perlu ditingkatkan."
      ],
      "metadata": {
        "id": "-LL7HGLP0Oei"
      }
    }
  ]
}